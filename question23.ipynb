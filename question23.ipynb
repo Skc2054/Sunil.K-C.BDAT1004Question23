{
 "cells": [
  {
   "cell_type": "markdown",
   "id": "7e1f6007",
   "metadata": {},
   "source": [
    "# Question 23\n",
    "In a jupyter notebook solve the following question using python. Please upload the notebook to GitHub and provide the link submission box below.\n",
    "\n",
    "\n",
    "\n",
    "Develop a recursive function tough() that takes two nonnegative integer arguments and outputs a pattern as shown below. Hint: The first argument represents the indentation of the pattern, where the second argument -- always a pattern of 2 indicates the number *s in the longest line of *s in the pattern"
   ]
  },
  {
   "cell_type": "code",
   "execution_count": 4,
   "id": "53c59987",
   "metadata": {},
   "outputs": [
    {
     "name": "stdout",
     "output_type": "stream",
     "text": [
      "f(0, 0):\n",
      "\n",
      "f(0, 1):\n",
      "*\n",
      "\n",
      "f(0, 2):\n",
      "*\n",
      "**\n",
      " *\n",
      "\n",
      "f(0, 4):\n",
      "*\n",
      "**\n",
      " *\n",
      "****\n",
      "  *\n",
      "  **\n",
      "   *\n"
     ]
    }
   ],
   "source": [
    "def f(indent, n):\n",
    "    if n == 0:\n",
    "        return\n",
    "    \n",
    "    f(indent, n // 2)\n",
    "    print(' ' * indent + '*' * n) \n",
    "    f(indent + n // 2, n // 2) \n",
    "\n",
    "# Test cases\n",
    "print(\"f(0, 0):\")\n",
    "f(0, 0)\n",
    "print(\"\\nf(0, 1):\")\n",
    "f(0, 1)\n",
    "print(\"\\nf(0, 2):\")\n",
    "f(0, 2)\n",
    "print(\"\\nf(0, 4):\")\n",
    "f(0, 4)\n"
   ]
  }
 ],
 "metadata": {
  "kernelspec": {
   "display_name": "Python 3 (ipykernel)",
   "language": "python",
   "name": "python3"
  },
  "language_info": {
   "codemirror_mode": {
    "name": "ipython",
    "version": 3
   },
   "file_extension": ".py",
   "mimetype": "text/x-python",
   "name": "python",
   "nbconvert_exporter": "python",
   "pygments_lexer": "ipython3",
   "version": "3.11.5"
  }
 },
 "nbformat": 4,
 "nbformat_minor": 5
}
